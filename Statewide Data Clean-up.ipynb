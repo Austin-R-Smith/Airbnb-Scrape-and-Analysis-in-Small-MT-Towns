{
 "cells": [
  {
   "cell_type": "markdown",
   "id": "902d2e41",
   "metadata": {},
   "source": [
    "# Statewide Data Clean-up\n",
    "\n",
    "My first step in running the correlations is to read in the data sets and clean them up for the purposes of my analysis. Each data set has a column for year and geography. Data is from 2019 for many towns, but not all. \n",
    "The data sets are as follows, broken out by town:\n",
    "- Current number of Airbnb Listings, as calculated with no zoom, one zoom, and two zooms on the Airbnb map, plus a column capturing the mean amongst those figures\n",
    "- Population levels\n",
    "- Distribution of age of residents\n",
    "- Median Household Income Values\n",
    "- Median Property Values\n",
    "\n",
    "The goal is to determine the relationship between the density of Airbnbs and age distribution, median household income, and median property values. If I were to run a correlation between, simply, the number of Airbnb listings and any of those values, it's likely that larger towns, by virtue of their size, would correlate with higher incomes and property values. Therefore (in python) I divided the number of listings by the population of the town to render a \"Listings per Person\" measure for correlation analysis."
   ]
  },
  {
   "cell_type": "code",
   "execution_count": 1,
   "id": "88ac2bc5",
   "metadata": {},
   "outputs": [],
   "source": [
    "import pandas as pd"
   ]
  },
  {
   "cell_type": "markdown",
   "id": "1988b76f",
   "metadata": {},
   "source": [
    "### Generate Listings Per Person\n",
    "\n",
    "Here, I will use the most recently available population data for each town to generate a new field called \"listings per person.\""
   ]
  },
  {
   "cell_type": "code",
   "execution_count": 2,
   "id": "d9b5149b",
   "metadata": {},
   "outputs": [],
   "source": [
    "# read in the listings data and population data\n",
    "# all listings data is for 2022; population data goes back to 2013\n",
    "\n",
    "listings = pd.read_csv('listings_by_town.csv')\n",
    "pop = pd.read_csv('population_data.csv')"
   ]
  },
  {
   "cell_type": "code",
   "execution_count": 3,
   "id": "3e345ba4",
   "metadata": {},
   "outputs": [
    {
     "data": {
      "text/html": [
       "<div>\n",
       "<style scoped>\n",
       "    .dataframe tbody tr th:only-of-type {\n",
       "        vertical-align: middle;\n",
       "    }\n",
       "\n",
       "    .dataframe tbody tr th {\n",
       "        vertical-align: top;\n",
       "    }\n",
       "\n",
       "    .dataframe thead th {\n",
       "        text-align: right;\n",
       "    }\n",
       "</style>\n",
       "<table border=\"1\" class=\"dataframe\">\n",
       "  <thead>\n",
       "    <tr style=\"text-align: right;\">\n",
       "      <th></th>\n",
       "      <th>IDtown</th>\n",
       "      <th>year</th>\n",
       "      <th>population</th>\n",
       "      <th>town</th>\n",
       "    </tr>\n",
       "  </thead>\n",
       "  <tbody>\n",
       "    <tr>\n",
       "      <th>0</th>\n",
       "      <td>16000US3008725</td>\n",
       "      <td>2019</td>\n",
       "      <td>61</td>\n",
       "      <td>Boyd, MT</td>\n",
       "    </tr>\n",
       "    <tr>\n",
       "      <th>1</th>\n",
       "      <td>16000US3048250</td>\n",
       "      <td>2019</td>\n",
       "      <td>157</td>\n",
       "      <td>Maxville, MT</td>\n",
       "    </tr>\n",
       "    <tr>\n",
       "      <th>2</th>\n",
       "      <td>16000US3022600</td>\n",
       "      <td>2019</td>\n",
       "      <td>388</td>\n",
       "      <td>East Glacier Park Village, MT</td>\n",
       "    </tr>\n",
       "    <tr>\n",
       "      <th>3</th>\n",
       "      <td>16000US3020800</td>\n",
       "      <td>2019</td>\n",
       "      <td>216</td>\n",
       "      <td>Dixon, MT</td>\n",
       "    </tr>\n",
       "    <tr>\n",
       "      <th>4</th>\n",
       "      <td>16000US3082130</td>\n",
       "      <td>2019</td>\n",
       "      <td>300</td>\n",
       "      <td>Yaak, MT</td>\n",
       "    </tr>\n",
       "  </tbody>\n",
       "</table>\n",
       "</div>"
      ],
      "text/plain": [
       "           IDtown  year  population                           town\n",
       "0  16000US3008725  2019          61                       Boyd, MT\n",
       "1  16000US3048250  2019         157                   Maxville, MT\n",
       "2  16000US3022600  2019         388  East Glacier Park Village, MT\n",
       "3  16000US3020800  2019         216                      Dixon, MT\n",
       "4  16000US3082130  2019         300                       Yaak, MT"
      ]
     },
     "execution_count": 3,
     "metadata": {},
     "output_type": "execute_result"
    }
   ],
   "source": [
    "# clean up the population data so only the most recently available year is kept\n",
    "pop.head()"
   ]
  },
  {
   "cell_type": "code",
   "execution_count": 4,
   "id": "69303f5d",
   "metadata": {},
   "outputs": [],
   "source": [
    "# 2019 data\n",
    "pop_2019 = pop[pop.year == 2019]"
   ]
  },
  {
   "cell_type": "code",
   "execution_count": 5,
   "id": "305cad29",
   "metadata": {},
   "outputs": [],
   "source": [
    "listings_pop = pd.merge(listings, pop_2019, on = 'town')"
   ]
  },
  {
   "cell_type": "code",
   "execution_count": 6,
   "id": "2dde104f",
   "metadata": {},
   "outputs": [
    {
     "data": {
      "text/html": [
       "<div>\n",
       "<style scoped>\n",
       "    .dataframe tbody tr th:only-of-type {\n",
       "        vertical-align: middle;\n",
       "    }\n",
       "\n",
       "    .dataframe tbody tr th {\n",
       "        vertical-align: top;\n",
       "    }\n",
       "\n",
       "    .dataframe thead th {\n",
       "        text-align: right;\n",
       "    }\n",
       "</style>\n",
       "<table border=\"1\" class=\"dataframe\">\n",
       "  <thead>\n",
       "    <tr style=\"text-align: right;\">\n",
       "      <th></th>\n",
       "      <th>town</th>\n",
       "      <th>Listings - No Zoom</th>\n",
       "      <th>Listings - One Zoom</th>\n",
       "      <th>Listings - Two Zoom</th>\n",
       "      <th>3-way Mean Listings</th>\n",
       "      <th>Zoom - Mean Listings</th>\n",
       "      <th>IDtown</th>\n",
       "      <th>year</th>\n",
       "      <th>population</th>\n",
       "    </tr>\n",
       "  </thead>\n",
       "  <tbody>\n",
       "    <tr>\n",
       "      <th>0</th>\n",
       "      <td>Martinsdale, MT</td>\n",
       "      <td>0</td>\n",
       "      <td>0</td>\n",
       "      <td>0</td>\n",
       "      <td>0</td>\n",
       "      <td>0</td>\n",
       "      <td>16000US3048175</td>\n",
       "      <td>2019</td>\n",
       "      <td>27</td>\n",
       "    </tr>\n",
       "    <tr>\n",
       "      <th>1</th>\n",
       "      <td>Box Elder, MT</td>\n",
       "      <td>23</td>\n",
       "      <td>4</td>\n",
       "      <td>0</td>\n",
       "      <td>9</td>\n",
       "      <td>2</td>\n",
       "      <td>16000US3008725</td>\n",
       "      <td>2019</td>\n",
       "      <td>47</td>\n",
       "    </tr>\n",
       "    <tr>\n",
       "      <th>2</th>\n",
       "      <td>Dutton, MT</td>\n",
       "      <td>67</td>\n",
       "      <td>2</td>\n",
       "      <td>0</td>\n",
       "      <td>23</td>\n",
       "      <td>1</td>\n",
       "      <td>16000US3022600</td>\n",
       "      <td>2019</td>\n",
       "      <td>270</td>\n",
       "    </tr>\n",
       "    <tr>\n",
       "      <th>3</th>\n",
       "      <td>Dillon, MT</td>\n",
       "      <td>71</td>\n",
       "      <td>35</td>\n",
       "      <td>4</td>\n",
       "      <td>37</td>\n",
       "      <td>20</td>\n",
       "      <td>16000US3020800</td>\n",
       "      <td>2019</td>\n",
       "      <td>4261</td>\n",
       "    </tr>\n",
       "    <tr>\n",
       "      <th>4</th>\n",
       "      <td>Absarokee, MT</td>\n",
       "      <td>187</td>\n",
       "      <td>187</td>\n",
       "      <td>35</td>\n",
       "      <td>136</td>\n",
       "      <td>111</td>\n",
       "      <td>16000US3000175</td>\n",
       "      <td>2019</td>\n",
       "      <td>1061</td>\n",
       "    </tr>\n",
       "  </tbody>\n",
       "</table>\n",
       "</div>"
      ],
      "text/plain": [
       "              town  Listings - No Zoom  Listings - One Zoom  \\\n",
       "0  Martinsdale, MT                   0                    0   \n",
       "1    Box Elder, MT                  23                    4   \n",
       "2       Dutton, MT                  67                    2   \n",
       "3       Dillon, MT                  71                   35   \n",
       "4    Absarokee, MT                 187                  187   \n",
       "\n",
       "   Listings - Two Zoom  3-way Mean Listings  Zoom - Mean Listings  \\\n",
       "0                    0                    0                     0   \n",
       "1                    0                    9                     2   \n",
       "2                    0                   23                     1   \n",
       "3                    4                   37                    20   \n",
       "4                   35                  136                   111   \n",
       "\n",
       "           IDtown  year  population  \n",
       "0  16000US3048175  2019          27  \n",
       "1  16000US3008725  2019          47  \n",
       "2  16000US3022600  2019         270  \n",
       "3  16000US3020800  2019        4261  \n",
       "4  16000US3000175  2019        1061  "
      ]
     },
     "execution_count": 6,
     "metadata": {},
     "output_type": "execute_result"
    }
   ],
   "source": [
    "listings_pop.head()"
   ]
  },
  {
   "cell_type": "code",
   "execution_count": 28,
   "id": "a5a509cc",
   "metadata": {},
   "outputs": [
    {
     "data": {
      "text/plain": [
       "277"
      ]
     },
     "execution_count": 28,
     "metadata": {},
     "output_type": "execute_result"
    }
   ],
   "source": [
    "len(listings_pop)"
   ]
  },
  {
   "cell_type": "code",
   "execution_count": 30,
   "id": "4b662ac8",
   "metadata": {},
   "outputs": [],
   "source": [
    "# do similar process for median income and median property values data\n",
    "income = pd.read_csv('median_income.csv')\n",
    "propvalue = pd.read_csv('median_propvalue.csv')"
   ]
  },
  {
   "cell_type": "code",
   "execution_count": 29,
   "id": "8a79725c",
   "metadata": {},
   "outputs": [
    {
     "data": {
      "text/plain": [
       "243"
      ]
     },
     "execution_count": 29,
     "metadata": {},
     "output_type": "execute_result"
    }
   ],
   "source": [
    "income_2019 = income[income.year == 2019]\n",
    "\n",
    "# note that income is not available in 2019 for all towns\n",
    "len(income_2019)"
   ]
  },
  {
   "cell_type": "code",
   "execution_count": 33,
   "id": "97c9b9f4",
   "metadata": {},
   "outputs": [
    {
     "data": {
      "text/plain": [
       "240"
      ]
     },
     "execution_count": 33,
     "metadata": {},
     "output_type": "execute_result"
    }
   ],
   "source": [
    "propvalue_2019 = propvalue[propvalue.year == 2019]\n",
    "\n",
    "# nor are property values available for 2019 for all towns\n",
    "len(propvalue_2019)"
   ]
  },
  {
   "cell_type": "code",
   "execution_count": 35,
   "id": "9e12b63c",
   "metadata": {},
   "outputs": [
    {
     "data": {
      "text/plain": [
       "243"
      ]
     },
     "execution_count": 35,
     "metadata": {},
     "output_type": "execute_result"
    }
   ],
   "source": [
    "# merge the datasets, recognizing that we'll lose some values\n",
    "merge_income = pd.merge(listings_pop, income_2019, on = \"town\")\n",
    "len(merge_income)"
   ]
  },
  {
   "cell_type": "code",
   "execution_count": 37,
   "id": "da2e0aa2",
   "metadata": {},
   "outputs": [
    {
     "data": {
      "text/plain": [
       "223"
      ]
     },
     "execution_count": 37,
     "metadata": {},
     "output_type": "execute_result"
    }
   ],
   "source": [
    "df = pd.merge(merge_income, propvalue_2019, on = 'town')\n",
    "len(df)"
   ]
  },
  {
   "cell_type": "code",
   "execution_count": 38,
   "id": "2f4077f8",
   "metadata": {},
   "outputs": [],
   "source": [
    "df.to_csv('merged_data.csv')"
   ]
  },
  {
   "cell_type": "code",
   "execution_count": null,
   "id": "00cf5c79",
   "metadata": {},
   "outputs": [],
   "source": []
  }
 ],
 "metadata": {
  "kernelspec": {
   "display_name": "Python 3",
   "language": "python",
   "name": "python3"
  },
  "language_info": {
   "codemirror_mode": {
    "name": "ipython",
    "version": 3
   },
   "file_extension": ".py",
   "mimetype": "text/x-python",
   "name": "python",
   "nbconvert_exporter": "python",
   "pygments_lexer": "ipython3",
   "version": "3.8.8"
  }
 },
 "nbformat": 4,
 "nbformat_minor": 5
}
