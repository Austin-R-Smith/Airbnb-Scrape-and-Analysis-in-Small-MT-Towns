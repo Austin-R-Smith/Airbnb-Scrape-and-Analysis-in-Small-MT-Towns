{
 "cells": [
  {
   "cell_type": "markdown",
   "id": "dd94cba0",
   "metadata": {},
   "source": [
    "# Data USA API Pulls - Statewide\n",
    "\n",
    "In order to pull median property value, median income, and the age breakdown of every small town in Montana, I will need to call each of them by their unique identifier from the DataUSA API. \n",
    "\n",
    "The unique identifiers for each \"place\" in Data USA's database is stored in the table on this page: https://datausa.io/about/classifications/Geography/Place\n",
    "\n",
    "I did a V-Lookup in Excel to match the IDs from the API to the towns for which I pulled listings (those with populations fewer than 2,500). "
   ]
  },
  {
   "cell_type": "code",
   "execution_count": 1,
   "id": "5be3bac9",
   "metadata": {},
   "outputs": [],
   "source": [
    "# imports\n",
    "import requests\n",
    "import pandas as pd\n",
    "from pandas.io.json import json_normalize\n",
    "import csv\n",
    "import json          "
   ]
  },
  {
   "cell_type": "code",
   "execution_count": 2,
   "id": "ab44b393",
   "metadata": {},
   "outputs": [
    {
     "data": {
      "text/html": [
       "<div>\n",
       "<style scoped>\n",
       "    .dataframe tbody tr th:only-of-type {\n",
       "        vertical-align: middle;\n",
       "    }\n",
       "\n",
       "    .dataframe tbody tr th {\n",
       "        vertical-align: top;\n",
       "    }\n",
       "\n",
       "    .dataframe thead th {\n",
       "        text-align: right;\n",
       "    }\n",
       "</style>\n",
       "<table border=\"1\" class=\"dataframe\">\n",
       "  <thead>\n",
       "    <tr style=\"text-align: right;\">\n",
       "      <th></th>\n",
       "      <th>Town</th>\n",
       "      <th>ID Look up</th>\n",
       "    </tr>\n",
       "  </thead>\n",
       "  <tbody>\n",
       "    <tr>\n",
       "      <th>0</th>\n",
       "      <td>East Missoula, MT</td>\n",
       "      <td>16000US3023200</td>\n",
       "    </tr>\n",
       "    <tr>\n",
       "      <th>1</th>\n",
       "      <td>Conrad, MT</td>\n",
       "      <td>16000US3017275</td>\n",
       "    </tr>\n",
       "    <tr>\n",
       "      <th>2</th>\n",
       "      <td>Red Lodge, MT</td>\n",
       "      <td>16000US3061525</td>\n",
       "    </tr>\n",
       "    <tr>\n",
       "      <th>3</th>\n",
       "      <td>Pablo, MT</td>\n",
       "      <td>16000US3056350</td>\n",
       "    </tr>\n",
       "    <tr>\n",
       "      <th>4</th>\n",
       "      <td>Colstrip, MT</td>\n",
       "      <td>16000US3016525</td>\n",
       "    </tr>\n",
       "  </tbody>\n",
       "</table>\n",
       "</div>"
      ],
      "text/plain": [
       "                Town      ID Look up\n",
       "0  East Missoula, MT  16000US3023200\n",
       "1         Conrad, MT  16000US3017275\n",
       "2      Red Lodge, MT  16000US3061525\n",
       "3          Pablo, MT  16000US3056350\n",
       "4       Colstrip, MT  16000US3016525"
      ]
     },
     "execution_count": 2,
     "metadata": {},
     "output_type": "execute_result"
    }
   ],
   "source": [
    "# import list of town names and unique ID\n",
    "towns = pd.read_csv('placeIDs.towns.csv')\n",
    "towns.head()"
   ]
  },
  {
   "cell_type": "code",
   "execution_count": 3,
   "id": "9e8f3117",
   "metadata": {},
   "outputs": [
    {
     "data": {
      "text/plain": [
       "273"
      ]
     },
     "execution_count": 3,
     "metadata": {},
     "output_type": "execute_result"
    }
   ],
   "source": [
    "# pull out the IDs\n",
    "IDs = towns['ID Look up'].tolist()\n",
    "len(IDs)"
   ]
  },
  {
   "cell_type": "code",
   "execution_count": null,
   "id": "bdbd0212",
   "metadata": {},
   "outputs": [],
   "source": [
    "# note, not all towns are officially \"census-designated areas\" so some are not available\n",
    "# median home values collected below \n",
    "\n",
    "home_values = {}\n",
    "\n",
    "for ID in IDs :\n",
    "    \n",
    "    # identify the URL for each unique ID\n",
    "    # this specifies the ID and that I only want the latest year\n",
    "    url = (f'https://datausa.io/api/data?measure=Property%20Value,Property%20Value%20Moe&Geography={ID}&year=latest')\n",
    "    \n",
    "    # call API\n",
    "    results = requests.get(url).json()\n",
    "    \n",
    "    items = []\n",
    "    \n",
    "    for item in results['data'] :\n",
    "        home_info = item\n",
    "        home_values[ID] = home_info\n",
    " "
   ]
  },
  {
   "cell_type": "code",
   "execution_count": null,
   "id": "cb402d91",
   "metadata": {},
   "outputs": [],
   "source": [
    "# save to a transposed dataframe\n",
    "home_values = pd.DataFrame(home_values)\n",
    "median_home_values = home_values.T\n",
    "\n",
    "median_home_values.head()"
   ]
  },
  {
   "cell_type": "code",
   "execution_count": null,
   "id": "d459e1cf",
   "metadata": {},
   "outputs": [],
   "source": [
    "# save to csv\n",
    "median_home_values.to_csv('statewide_median_home_values.csv')"
   ]
  },
  {
   "cell_type": "code",
   "execution_count": null,
   "id": "466643d3",
   "metadata": {},
   "outputs": [],
   "source": [
    "# median household income values collected below\n",
    "\n",
    "income_values = {}\n",
    "\n",
    "for ID in IDs :\n",
    "    \n",
    "    # identify the URL for each unique ID\n",
    "    # this specifies the ID and that I only want the latest year\n",
    "    url = (f'https://datausa.io/api/data?measure=Household%20Income%20by%20Race&Geography={ID}&year=latest')\n",
    "    \n",
    "    # call API\n",
    "    results = requests.get(url).json()\n",
    "    \n",
    "    items = []\n",
    "    \n",
    "    for item in results['data'] :\n",
    "        income_info = item\n",
    "        income_values[ID] = income_info"
   ]
  },
  {
   "cell_type": "code",
   "execution_count": null,
   "id": "158b25e4",
   "metadata": {},
   "outputs": [],
   "source": [
    "# save to a transposed dataframe\n",
    "income_values = pd.DataFrame(income_values)\n",
    "median_income_values = income_values.T\n",
    "\n",
    "median_income_values.head()"
   ]
  },
  {
   "cell_type": "code",
   "execution_count": null,
   "id": "489af9e6",
   "metadata": {},
   "outputs": [],
   "source": [
    "# save to csv\n",
    "median_income_values.to_csv('statewide_median_income_values.csv')"
   ]
  },
  {
   "cell_type": "code",
   "execution_count": 4,
   "id": "d6bc64d5",
   "metadata": {},
   "outputs": [
    {
     "name": "stdout",
     "output_type": "stream",
     "text": [
      "error for 16000US3003475\n"
     ]
    }
   ],
   "source": [
    "# the code below grab the age distribution of all towns\n",
    "\n",
    "age = {}\n",
    "\n",
    "for ID in IDs :\n",
    "    \n",
    "    # identify the URL for each unique ID\n",
    "    # this specifies the ID and that I only want the latest year\n",
    "    url = (f'https://datausa.io/api/data?Geography={ID}&measures=Birthplace&drilldowns=Age&year=latest')\n",
    "    \n",
    "    # call API\n",
    "    try :\n",
    "        results = requests.get(url).json()\n",
    "    except :\n",
    "        print(f\"error for {ID}\")\n",
    "    items = []\n",
    "    \n",
    "    for item in results['data'] :\n",
    "        age_info = item\n",
    "        age[ID] = age_info\n"
   ]
  },
  {
   "cell_type": "code",
   "execution_count": 5,
   "id": "534e95be",
   "metadata": {},
   "outputs": [
    {
     "data": {
      "text/html": [
       "<div>\n",
       "<style scoped>\n",
       "    .dataframe tbody tr th:only-of-type {\n",
       "        vertical-align: middle;\n",
       "    }\n",
       "\n",
       "    .dataframe tbody tr th {\n",
       "        vertical-align: top;\n",
       "    }\n",
       "\n",
       "    .dataframe thead th {\n",
       "        text-align: right;\n",
       "    }\n",
       "</style>\n",
       "<table border=\"1\" class=\"dataframe\">\n",
       "  <thead>\n",
       "    <tr style=\"text-align: right;\">\n",
       "      <th></th>\n",
       "      <th>ID Age</th>\n",
       "      <th>Age</th>\n",
       "      <th>ID Year</th>\n",
       "      <th>Year</th>\n",
       "      <th>Birthplace</th>\n",
       "      <th>Geography</th>\n",
       "      <th>ID Geography</th>\n",
       "      <th>Slug Geography</th>\n",
       "    </tr>\n",
       "  </thead>\n",
       "  <tbody>\n",
       "    <tr>\n",
       "      <th>16000US3023200</th>\n",
       "      <td>10</td>\n",
       "      <td>75 Years &amp; Over</td>\n",
       "      <td>2019</td>\n",
       "      <td>2019</td>\n",
       "      <td>110</td>\n",
       "      <td>East Missoula, MT</td>\n",
       "      <td>16000US3023200</td>\n",
       "      <td>east-missoula-mt</td>\n",
       "    </tr>\n",
       "    <tr>\n",
       "      <th>16000US3017275</th>\n",
       "      <td>10</td>\n",
       "      <td>75 Years &amp; Over</td>\n",
       "      <td>2019</td>\n",
       "      <td>2019</td>\n",
       "      <td>304</td>\n",
       "      <td>Conrad, MT</td>\n",
       "      <td>16000US3017275</td>\n",
       "      <td>conrad-mt</td>\n",
       "    </tr>\n",
       "    <tr>\n",
       "      <th>16000US3061525</th>\n",
       "      <td>10</td>\n",
       "      <td>75 Years &amp; Over</td>\n",
       "      <td>2019</td>\n",
       "      <td>2019</td>\n",
       "      <td>287</td>\n",
       "      <td>Red Lodge, MT</td>\n",
       "      <td>16000US3061525</td>\n",
       "      <td>red-lodge-mt</td>\n",
       "    </tr>\n",
       "    <tr>\n",
       "      <th>16000US3056350</th>\n",
       "      <td>10</td>\n",
       "      <td>75 Years &amp; Over</td>\n",
       "      <td>2019</td>\n",
       "      <td>2019</td>\n",
       "      <td>92</td>\n",
       "      <td>Pablo, MT</td>\n",
       "      <td>16000US3056350</td>\n",
       "      <td>pablo-mt</td>\n",
       "    </tr>\n",
       "    <tr>\n",
       "      <th>16000US3016525</th>\n",
       "      <td>10</td>\n",
       "      <td>75 Years &amp; Over</td>\n",
       "      <td>2019</td>\n",
       "      <td>2019</td>\n",
       "      <td>20</td>\n",
       "      <td>Colstrip, MT</td>\n",
       "      <td>16000US3016525</td>\n",
       "      <td>colstrip-mt</td>\n",
       "    </tr>\n",
       "  </tbody>\n",
       "</table>\n",
       "</div>"
      ],
      "text/plain": [
       "               ID Age              Age ID Year  Year Birthplace  \\\n",
       "16000US3023200     10  75 Years & Over    2019  2019        110   \n",
       "16000US3017275     10  75 Years & Over    2019  2019        304   \n",
       "16000US3061525     10  75 Years & Over    2019  2019        287   \n",
       "16000US3056350     10  75 Years & Over    2019  2019         92   \n",
       "16000US3016525     10  75 Years & Over    2019  2019         20   \n",
       "\n",
       "                        Geography    ID Geography    Slug Geography  \n",
       "16000US3023200  East Missoula, MT  16000US3023200  east-missoula-mt  \n",
       "16000US3017275         Conrad, MT  16000US3017275         conrad-mt  \n",
       "16000US3061525      Red Lodge, MT  16000US3061525      red-lodge-mt  \n",
       "16000US3056350          Pablo, MT  16000US3056350          pablo-mt  \n",
       "16000US3016525       Colstrip, MT  16000US3016525       colstrip-mt  "
      ]
     },
     "execution_count": 5,
     "metadata": {},
     "output_type": "execute_result"
    }
   ],
   "source": [
    "# save to a transposed dataframe\n",
    "ages = pd.DataFrame(age)\n",
    "age_data = ages.T\n",
    "\n",
    "age_data.head()"
   ]
  },
  {
   "cell_type": "code",
   "execution_count": null,
   "id": "60ba6fec",
   "metadata": {},
   "outputs": [],
   "source": [
    "# save to csv\n",
    "age_data.to_csv('statewide_age_data.csv')"
   ]
  },
  {
   "cell_type": "code",
   "execution_count": 6,
   "id": "5b726c22",
   "metadata": {},
   "outputs": [],
   "source": [
    "# the code below pulls population data\n",
    "\n",
    "population = {}\n",
    "\n",
    "for ID in IDs :\n",
    "    \n",
    "    # identify the URL for each unique ID\n",
    "    # this specifies the ID and that I only want the latest year\n",
    "    url = (f'https://datausa.io/api/data?Geography={ID}&measure=Population&year=latest')\n",
    "    \n",
    "    # call API\n",
    "    try :\n",
    "        results = requests.get(url).json()\n",
    "    except :\n",
    "        print(f\"error for {ID}\")\n",
    "    \n",
    "    items = []\n",
    "    \n",
    "    for item in results['data'] :\n",
    "        population_info = item\n",
    "        population[ID] = population_info  "
   ]
  },
  {
   "cell_type": "code",
   "execution_count": 7,
   "id": "08c7e175",
   "metadata": {},
   "outputs": [
    {
     "data": {
      "text/html": [
       "<div>\n",
       "<style scoped>\n",
       "    .dataframe tbody tr th:only-of-type {\n",
       "        vertical-align: middle;\n",
       "    }\n",
       "\n",
       "    .dataframe tbody tr th {\n",
       "        vertical-align: top;\n",
       "    }\n",
       "\n",
       "    .dataframe thead th {\n",
       "        text-align: right;\n",
       "    }\n",
       "</style>\n",
       "<table border=\"1\" class=\"dataframe\">\n",
       "  <thead>\n",
       "    <tr style=\"text-align: right;\">\n",
       "      <th></th>\n",
       "      <th>ID Year</th>\n",
       "      <th>Year</th>\n",
       "      <th>Population</th>\n",
       "      <th>Geography</th>\n",
       "      <th>ID Geography</th>\n",
       "      <th>Slug Geography</th>\n",
       "    </tr>\n",
       "  </thead>\n",
       "  <tbody>\n",
       "    <tr>\n",
       "      <th>16000US3023200</th>\n",
       "      <td>2019</td>\n",
       "      <td>2019</td>\n",
       "      <td>2111</td>\n",
       "      <td>East Missoula, MT</td>\n",
       "      <td>16000US3023200</td>\n",
       "      <td>east-missoula-mt</td>\n",
       "    </tr>\n",
       "    <tr>\n",
       "      <th>16000US3017275</th>\n",
       "      <td>2019</td>\n",
       "      <td>2019</td>\n",
       "      <td>2633</td>\n",
       "      <td>Conrad, MT</td>\n",
       "      <td>16000US3017275</td>\n",
       "      <td>conrad-mt</td>\n",
       "    </tr>\n",
       "    <tr>\n",
       "      <th>16000US3061525</th>\n",
       "      <td>2019</td>\n",
       "      <td>2019</td>\n",
       "      <td>2212</td>\n",
       "      <td>Red Lodge, MT</td>\n",
       "      <td>16000US3061525</td>\n",
       "      <td>red-lodge-mt</td>\n",
       "    </tr>\n",
       "    <tr>\n",
       "      <th>16000US3056350</th>\n",
       "      <td>2019</td>\n",
       "      <td>2019</td>\n",
       "      <td>2274</td>\n",
       "      <td>Pablo, MT</td>\n",
       "      <td>16000US3056350</td>\n",
       "      <td>pablo-mt</td>\n",
       "    </tr>\n",
       "    <tr>\n",
       "      <th>16000US3016525</th>\n",
       "      <td>2019</td>\n",
       "      <td>2019</td>\n",
       "      <td>2448</td>\n",
       "      <td>Colstrip, MT</td>\n",
       "      <td>16000US3016525</td>\n",
       "      <td>colstrip-mt</td>\n",
       "    </tr>\n",
       "  </tbody>\n",
       "</table>\n",
       "</div>"
      ],
      "text/plain": [
       "               ID Year  Year Population          Geography    ID Geography  \\\n",
       "16000US3023200    2019  2019       2111  East Missoula, MT  16000US3023200   \n",
       "16000US3017275    2019  2019       2633         Conrad, MT  16000US3017275   \n",
       "16000US3061525    2019  2019       2212      Red Lodge, MT  16000US3061525   \n",
       "16000US3056350    2019  2019       2274          Pablo, MT  16000US3056350   \n",
       "16000US3016525    2019  2019       2448       Colstrip, MT  16000US3016525   \n",
       "\n",
       "                  Slug Geography  \n",
       "16000US3023200  east-missoula-mt  \n",
       "16000US3017275         conrad-mt  \n",
       "16000US3061525      red-lodge-mt  \n",
       "16000US3056350          pablo-mt  \n",
       "16000US3016525       colstrip-mt  "
      ]
     },
     "execution_count": 7,
     "metadata": {},
     "output_type": "execute_result"
    }
   ],
   "source": [
    "# save to a transposed dataframe\n",
    "populations = pd.DataFrame(population)\n",
    "population_data = populations.T\n",
    "\n",
    "population_data.head()"
   ]
  },
  {
   "cell_type": "code",
   "execution_count": 8,
   "id": "e0dfbd6e",
   "metadata": {},
   "outputs": [],
   "source": [
    "# save to csv\n",
    "population_data.to_csv('statewide_population_data.csv')"
   ]
  },
  {
   "cell_type": "code",
   "execution_count": null,
   "id": "954a5c8c",
   "metadata": {},
   "outputs": [],
   "source": []
  }
 ],
 "metadata": {
  "kernelspec": {
   "display_name": "Python 3",
   "language": "python",
   "name": "python3"
  },
  "language_info": {
   "codemirror_mode": {
    "name": "ipython",
    "version": 3
   },
   "file_extension": ".py",
   "mimetype": "text/x-python",
   "name": "python",
   "nbconvert_exporter": "python",
   "pygments_lexer": "ipython3",
   "version": "3.8.8"
  }
 },
 "nbformat": 4,
 "nbformat_minor": 5
}
