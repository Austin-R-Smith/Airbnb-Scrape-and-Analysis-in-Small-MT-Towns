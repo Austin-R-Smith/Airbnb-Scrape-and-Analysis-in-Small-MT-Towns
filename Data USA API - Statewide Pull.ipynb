{
 "cells": [
  {
   "cell_type": "markdown",
   "id": "dd94cba0",
   "metadata": {},
   "source": [
    "# Data USA API Pulls - Statewide\n",
    "\n",
    "In order to pull median property value, median income, age breakdown, and population of every small town in Montana, I will need to call each of them by their unique identifier from the DataUSA API. \n",
    "\n",
    "The unique identifiers for each \"place\" in Data USA's database is stored in the table on this page: https://datausa.io/about/classifications/Geography/Place\n",
    "\n",
    "I did a V-Lookup in Excel to match the IDs from the API to the towns for which I pulled listings (those with populations fewer than 2,500). \n",
    "\n",
    "Note for the future: if you do this pull at a later date, remember to provide some time between each pull so the API is not overly taxed. Allowing several hours between each pull resulted in no errors, while trying to run them one after the other results in many errors. "
   ]
  },
  {
   "cell_type": "code",
   "execution_count": 1,
   "id": "5be3bac9",
   "metadata": {},
   "outputs": [],
   "source": [
    "# imports\n",
    "import requests\n",
    "import pandas as pd\n",
    "from pandas.io.json import json_normalize\n",
    "import csv\n",
    "import json    \n",
    "from collections import defaultdict"
   ]
  },
  {
   "cell_type": "code",
   "execution_count": 2,
   "id": "ab44b393",
   "metadata": {},
   "outputs": [
    {
     "data": {
      "text/html": [
       "<div>\n",
       "<style scoped>\n",
       "    .dataframe tbody tr th:only-of-type {\n",
       "        vertical-align: middle;\n",
       "    }\n",
       "\n",
       "    .dataframe tbody tr th {\n",
       "        vertical-align: top;\n",
       "    }\n",
       "\n",
       "    .dataframe thead th {\n",
       "        text-align: right;\n",
       "    }\n",
       "</style>\n",
       "<table border=\"1\" class=\"dataframe\">\n",
       "  <thead>\n",
       "    <tr style=\"text-align: right;\">\n",
       "      <th></th>\n",
       "      <th>Town</th>\n",
       "      <th>ID Look up</th>\n",
       "    </tr>\n",
       "  </thead>\n",
       "  <tbody>\n",
       "    <tr>\n",
       "      <th>0</th>\n",
       "      <td>Yaak, MT</td>\n",
       "      <td>16000US3082130</td>\n",
       "    </tr>\n",
       "    <tr>\n",
       "      <th>1</th>\n",
       "      <td>Wyola, MT</td>\n",
       "      <td>16000US3082075</td>\n",
       "    </tr>\n",
       "    <tr>\n",
       "      <th>2</th>\n",
       "      <td>Wye, MT</td>\n",
       "      <td>16000US3081980</td>\n",
       "    </tr>\n",
       "    <tr>\n",
       "      <th>3</th>\n",
       "      <td>Worden, MT</td>\n",
       "      <td>16000US3081925</td>\n",
       "    </tr>\n",
       "    <tr>\n",
       "      <th>4</th>\n",
       "      <td>Woods Bay, MT</td>\n",
       "      <td>16000US3081700</td>\n",
       "    </tr>\n",
       "  </tbody>\n",
       "</table>\n",
       "</div>"
      ],
      "text/plain": [
       "            Town      ID Look up\n",
       "0       Yaak, MT  16000US3082130\n",
       "1      Wyola, MT  16000US3082075\n",
       "2        Wye, MT  16000US3081980\n",
       "3     Worden, MT  16000US3081925\n",
       "4  Woods Bay, MT  16000US3081700"
      ]
     },
     "execution_count": 2,
     "metadata": {},
     "output_type": "execute_result"
    }
   ],
   "source": [
    "# import list of town names and unique ID\n",
    "towns = pd.read_csv('placeIDs.towns.csv')\n",
    "towns.drop_duplicates()\n",
    "towns.head()"
   ]
  },
  {
   "cell_type": "code",
   "execution_count": 5,
   "id": "9e8f3117",
   "metadata": {},
   "outputs": [
    {
     "data": {
      "text/plain": [
       "277"
      ]
     },
     "execution_count": 5,
     "metadata": {},
     "output_type": "execute_result"
    }
   ],
   "source": [
    "# pull out the IDs\n",
    "IDs = towns['Town'].tolist()\n",
    "len(IDs)"
   ]
  },
  {
   "cell_type": "code",
   "execution_count": 6,
   "id": "f1fb79dd",
   "metadata": {},
   "outputs": [
    {
     "data": {
      "text/plain": [
       "['Wyola, MT', 'Wye, MT']"
      ]
     },
     "execution_count": 6,
     "metadata": {},
     "output_type": "execute_result"
    }
   ],
   "source": [
    "# these test IDs are used to test the code on a sample before running full scripts\n",
    "test_IDs = IDs[1:3]\n",
    "test_IDs"
   ]
  },
  {
   "cell_type": "markdown",
   "id": "36084a56",
   "metadata": {},
   "source": [
    "### Median Home Values"
   ]
  },
  {
   "cell_type": "code",
   "execution_count": 6,
   "id": "35db769e",
   "metadata": {},
   "outputs": [],
   "source": [
    "home_values = defaultdict(list)\n",
    "\n",
    "for ID in test_IDs :\n",
    "    url = (f'https://datausa.io/api/data?measure=Property%20Value&Geography={ID}')\n",
    "\n",
    "    results = requests.get(url).json()       \n",
    "        \n",
    "    for item in results['data'] :\n",
    "       \n",
    "        year = item['Year']\n",
    "        property_value = item['Property Value']\n",
    "        town = item['Geography']\n",
    "\n",
    "        home_values[ID].append((year, property_value, town))   \n",
    "       "
   ]
  },
  {
   "cell_type": "code",
   "execution_count": null,
   "id": "1c0444c1",
   "metadata": {},
   "outputs": [],
   "source": [
    "with open('median_propvalue.txt','w') as outfile:\n",
    "    # input the header row\n",
    "    outfile.write('IDtown\\tyear\\tproperty_value\\ttown\\n')\n",
    "    \n",
    "    for town, list_of_values in home_values.items() :\n",
    "        \n",
    "        for list_of_values in home_values[town] :\n",
    "            #print(list_of_values)\n",
    "            \n",
    "            out_line = [town]\n",
    "           \n",
    "            out_line.extend(list_of_values)\n",
    "            \n",
    "            outfile.write('\\t'.join(str(v) for v in out_line) + '\\n')"
   ]
  },
  {
   "cell_type": "markdown",
   "id": "f64c43cf",
   "metadata": {},
   "source": [
    "Note to self: there were no errors in this pull, though that line of code was deleted. "
   ]
  },
  {
   "cell_type": "markdown",
   "id": "fc55c74f",
   "metadata": {},
   "source": [
    "### Median Income Values"
   ]
  },
  {
   "cell_type": "code",
   "execution_count": 22,
   "id": "d43d5602",
   "metadata": {},
   "outputs": [],
   "source": [
    "income_values = defaultdict(list)\n",
    "errors = []\n",
    "\n",
    "for ID in IDs :\n",
    "    url = (f'https://datausa.io/api/data?measure=Household%20Income%20by%20Race&Geography={ID}')\n",
    "\n",
    "    try :\n",
    "        results = requests.get(url).json()  \n",
    "        \n",
    "    except :\n",
    "            errors.append(ID)\n",
    "    \n",
    "    for item in results['data'] :\n",
    "       \n",
    "        year = item['Year']\n",
    "        income_value = item['Household Income by Race']\n",
    "        town = item['Geography']\n",
    "\n",
    "        income_values[ID].append((year, income_value, town))   \n",
    "       "
   ]
  },
  {
   "cell_type": "code",
   "execution_count": 23,
   "id": "215a051b",
   "metadata": {},
   "outputs": [
    {
     "data": {
      "text/plain": [
       "0"
      ]
     },
     "execution_count": 23,
     "metadata": {},
     "output_type": "execute_result"
    }
   ],
   "source": [
    "len(errors)"
   ]
  },
  {
   "cell_type": "code",
   "execution_count": 24,
   "id": "7a74aec0",
   "metadata": {},
   "outputs": [],
   "source": [
    "with open('median_income.txt','w') as outfile:\n",
    "    # input the header row\n",
    "    outfile.write('IDtown\\tyear\\tincome_value\\ttown\\n')\n",
    "    \n",
    "    for town, list_of_values in income_values.items() :\n",
    "        \n",
    "        for list_of_values in income_values[town] :\n",
    "            #print(list_of_values)\n",
    "            \n",
    "            out_line = [town]\n",
    "           \n",
    "            out_line.extend(list_of_values)\n",
    "            \n",
    "            outfile.write('\\t'.join(str(v) for v in out_line) + '\\n')"
   ]
  },
  {
   "cell_type": "markdown",
   "id": "cee95c5f",
   "metadata": {},
   "source": [
    "### Age Distribution"
   ]
  },
  {
   "cell_type": "code",
   "execution_count": 7,
   "id": "01609400",
   "metadata": {},
   "outputs": [],
   "source": [
    "ages = defaultdict(list)\n",
    "errors = []\n",
    "\n",
    "for ID in test_IDs :\n",
    "    url_age = (f'https://datausa.io/api/data?Geography={ID}&measures=Birthplace,Birthplace%20Moe&drilldowns=Place of Birth,Age')\n",
    "\n",
    "    try :\n",
    "        results = requests.get(url).json()  \n",
    "        \n",
    "    except :\n",
    "        errors.append(ID)\n",
    "    \n",
    " "
   ]
  },
  {
   "cell_type": "code",
   "execution_count": 8,
   "id": "8eda0bf6",
   "metadata": {},
   "outputs": [
    {
     "ename": "NameError",
     "evalue": "name 'results' is not defined",
     "output_type": "error",
     "traceback": [
      "\u001b[0;31m---------------------------------------------------------------------------\u001b[0m",
      "\u001b[0;31mNameError\u001b[0m                                 Traceback (most recent call last)",
      "\u001b[0;32m<ipython-input-8-100f62972f2f>\u001b[0m in \u001b[0;36m<module>\u001b[0;34m\u001b[0m\n\u001b[0;32m----> 1\u001b[0;31m \u001b[0mresults\u001b[0m\u001b[0;34m\u001b[0m\u001b[0;34m\u001b[0m\u001b[0m\n\u001b[0m",
      "\u001b[0;31mNameError\u001b[0m: name 'results' is not defined"
     ]
    }
   ],
   "source": [
    "results"
   ]
  },
  {
   "cell_type": "code",
   "execution_count": 26,
   "id": "06d223a1",
   "metadata": {},
   "outputs": [
    {
     "data": {
      "text/plain": [
       "[]"
      ]
     },
     "execution_count": 26,
     "metadata": {},
     "output_type": "execute_result"
    }
   ],
   "source": [
    "errors"
   ]
  },
  {
   "cell_type": "code",
   "execution_count": 6,
   "id": "20d23625",
   "metadata": {},
   "outputs": [],
   "source": [
    "with open('age_data.txt','w') as outfile:\n",
    "    # input the header row\n",
    "    outfile.write('IDtown\\tyear\\tage_bands\\ttown\\n')\n",
    "    \n",
    "    for town, list_of_values in ages.items() :\n",
    "        \n",
    "        for list_of_values in ages[town] :\n",
    "            #print(list_of_values)\n",
    "            \n",
    "            out_line = [town]\n",
    "           \n",
    "            out_line.extend(list_of_values)\n",
    "            \n",
    "            outfile.write('\\t'.join(str(v) for v in out_line) + '\\n')"
   ]
  },
  {
   "cell_type": "code",
   "execution_count": 5,
   "id": "27529d09",
   "metadata": {},
   "outputs": [
    {
     "data": {
      "text/plain": [
       "0"
      ]
     },
     "execution_count": 5,
     "metadata": {},
     "output_type": "execute_result"
    }
   ],
   "source": [
    "len(errors)"
   ]
  },
  {
   "cell_type": "markdown",
   "id": "a3fc7efe",
   "metadata": {},
   "source": [
    "### Populations"
   ]
  },
  {
   "cell_type": "code",
   "execution_count": 4,
   "id": "7db45a85",
   "metadata": {},
   "outputs": [],
   "source": [
    "pop = defaultdict(list)\n",
    "errors_pop = []\n",
    "\n",
    "for ID in IDs :\n",
    "    url = (f'https://datausa.io/api/data?Geography={ID}&measure=Population')\n",
    "\n",
    "    try :\n",
    "        results = requests.get(url).json()  \n",
    "        \n",
    "    except :\n",
    "        errors_pop.append(ID)\n",
    "    \n",
    "    for item in results['data'] :\n",
    "       \n",
    "        year = item['Year']\n",
    "        population = item['Population']\n",
    "        town = item['Geography']\n",
    "\n",
    "        pop[ID].append((year, population, town))   "
   ]
  },
  {
   "cell_type": "code",
   "execution_count": 5,
   "id": "954a5c8c",
   "metadata": {},
   "outputs": [],
   "source": [
    "with open('population_data.txt','w') as outfile:\n",
    "    # input the header row\n",
    "    outfile.write('IDtown\\tyear\\tpopulation\\ttown\\n')\n",
    "    \n",
    "    for town, list_of_values in pop.items() :\n",
    "        \n",
    "        for list_of_values in pop[town] :\n",
    "            #print(list_of_values)\n",
    "            \n",
    "            out_line = [town]\n",
    "           \n",
    "            out_line.extend(list_of_values)\n",
    "            \n",
    "            outfile.write('\\t'.join(str(v) for v in out_line) + '\\n')"
   ]
  },
  {
   "cell_type": "code",
   "execution_count": 6,
   "id": "90bbcc2f",
   "metadata": {},
   "outputs": [
    {
     "data": {
      "text/plain": [
       "0"
      ]
     },
     "execution_count": 6,
     "metadata": {},
     "output_type": "execute_result"
    }
   ],
   "source": [
    "len(errors_pop)"
   ]
  }
 ],
 "metadata": {
  "kernelspec": {
   "display_name": "Python 3",
   "language": "python",
   "name": "python3"
  },
  "language_info": {
   "codemirror_mode": {
    "name": "ipython",
    "version": 3
   },
   "file_extension": ".py",
   "mimetype": "text/x-python",
   "name": "python",
   "nbconvert_exporter": "python",
   "pygments_lexer": "ipython3",
   "version": "3.8.8"
  }
 },
 "nbformat": 4,
 "nbformat_minor": 5
}
