{
 "cells": [
  {
   "cell_type": "markdown",
   "id": "dd94cba0",
   "metadata": {},
   "source": [
    "# Data USA API Pulls - Statewide\n",
    "\n",
    "In order to pull median property value, median income, and the age breakdown of every small town in Montana, I will need to call each of them by their unique identifier from the DataUSA API. \n",
    "\n",
    "The unique identifiers for each \"place\" in Data USA's database is stored in the table on this page: https://datausa.io/about/classifications/Geography/Place\n",
    "\n",
    "My first step will be to scrape the unique identifiers from that page. Then I will perform a V-Lookup in Excel with my list of Montana towns. Finally, I will perform the data pulls for each town."
   ]
  },
  {
   "cell_type": "code",
   "execution_count": 17,
   "id": "5be3bac9",
   "metadata": {},
   "outputs": [],
   "source": [
    "# imports\n",
    "import requests\n",
    "import pandas as pd\n",
    "from pandas.io.json import json_normalize\n",
    "import csv\n",
    "import json\n",
    "import pandas as pd\n",
    "import requests               \n",
    "from bs4 import BeautifulSoup \n",
    "from selenium import webdriver\n",
    "from selenium.webdriver.chrome.service import Service\n",
    "from webdriver_manager.chrome import ChromeDriverManager\n",
    "from selenium.webdriver.common.keys import Keys\n",
    "from selenium.webdriver.common.by import By\n",
    "from selenium.webdriver.chrome.options import Options"
   ]
  },
  {
   "cell_type": "code",
   "execution_count": 18,
   "id": "e2c1be2f",
   "metadata": {},
   "outputs": [
    {
     "data": {
      "text/plain": [
       "200"
      ]
     },
     "execution_count": 18,
     "metadata": {},
     "output_type": "execute_result"
    }
   ],
   "source": [
    "# The whole data table of identifiers is stored in a table with columns for identifiers and for places. \n",
    "# there are over 29k\n",
    "\n",
    "url = 'https://datausa.io/about/classifications/Geography/Place'\n",
    "r = requests.get(url)\n",
    "r.status_code"
   ]
  },
  {
   "cell_type": "code",
   "execution_count": 7,
   "id": "6297ff76",
   "metadata": {},
   "outputs": [],
   "source": [
    "soup = BeautifulSoup(r.text, 'html.parser')"
   ]
  },
  {
   "cell_type": "markdown",
   "id": "2388ead0",
   "metadata": {},
   "source": [
    "From inspecting the website elements and the soup, I can see that all of the information is contained under the same tags. So, from my research on this issue, it looks like I need to parse the website with the script rather than spans and divs. "
   ]
  },
  {
   "cell_type": "code",
   "execution_count": 14,
   "id": "16fd0652",
   "metadata": {},
   "outputs": [
    {
     "data": {
      "text/plain": [
       "[<div class=\"bp3-table-truncated-text\">id</div>,\n",
       " <div class=\"bp3-table-truncated-text\">16000US4200104</div>,\n",
       " <div class=\"bp3-table-truncated-text\">id</div>]"
      ]
     },
     "execution_count": 14,
     "metadata": {},
     "output_type": "execute_result"
    }
   ],
   "source": [
    "//*[@id=\"Classifications\"]/div[2]/div/div[1]/div[1]/div/div[2]/div[2]/div/div"
   ]
  },
  {
   "cell_type": "code",
   "execution_count": 23,
   "id": "2153af51",
   "metadata": {},
   "outputs": [
    {
     "name": "stderr",
     "output_type": "stream",
     "text": [
      "\n",
      "\n",
      "====== WebDriver manager ======\n",
      "Current google-chrome version is 98.0.4758\n",
      "Get LATEST chromedriver version for 98.0.4758 google-chrome\n",
      "Driver [/Users/austinsmith/.wdm/drivers/chromedriver/mac64/98.0.4758.102/chromedriver] found in cache\n"
     ]
    },
    {
     "name": "stdout",
     "output_type": "stream",
     "text": [
      "{'ID': None, 'name': None, 'table': None}\n"
     ]
    }
   ],
   "source": [
    "\n",
    "options = Options()\n",
    "options.headless = True\n",
    "options.add_argument(\"--window-size=1920,1200\")\n",
    "driver = webdriver.Chrome(service=Service(ChromeDriverManager().install()))\n",
    "driver.get(url)\n",
    "\n",
    "table = driver.find_element(By.XPATH, '//*[@id=\"Classifications\"]/div[2]/div/div[1]/div[1]/div/div[2]/div[2]/div/div')\n",
    "ID = driver.find_element(By.XPATH, '//*[@id=\"Classifications\"]/div[2]/div/div[1]/div[1]/div/div[2]/div[2]/div/div/div/div[1]')\n",
    "name = driver.find_element(By.XPATH, '//*[@id=\"Classifications\"]/div[2]/div/div[1]/div[1]/div/div[2]/div[2]/div/div/div/div[2]')\n",
    "\n",
    "place_data = {\n",
    "    'ID': ID.get_attribute('content'),\n",
    "    'name': name.get_attribute('content'),\n",
    "    'table': table.get_attribute('content')\n",
    "}\n",
    "\n",
    "print(place_data)\n",
    "driver.quit()"
   ]
  },
  {
   "cell_type": "code",
   "execution_count": null,
   "id": "ab44b393",
   "metadata": {},
   "outputs": [],
   "source": []
  },
  {
   "cell_type": "code",
   "execution_count": null,
   "id": "ef10e142",
   "metadata": {},
   "outputs": [],
   "source": []
  },
  {
   "cell_type": "code",
   "execution_count": null,
   "id": "bdbd0212",
   "metadata": {},
   "outputs": [],
   "source": []
  },
  {
   "cell_type": "code",
   "execution_count": null,
   "id": "43b20956",
   "metadata": {},
   "outputs": [],
   "source": [
    "# General process\n",
    "# EXCEPT NEEDS TO BE EDITED SO THAT ALL OF THE DATAPOINTS ARE STORED IN THE SAME CSV!\n",
    "\n",
    "# pull data\n",
    "url_home = \"https://datausa.io/api/data?measure=Property Value by Bucket,Property Value by Bucket%20Moe&geo=16000US3029950,01000US&drilldowns=Value%20Bucket\"\n",
    "\n",
    "# process\n",
    "json_home = requests.get(url_home).json()\n",
    "\n",
    "with open('g_home_data.json', 'w') as json_file :\n",
    "    json.dump(json_home, json_file)\n",
    "    \n",
    "with open('g_home_data.json') as json_data :\n",
    "    data = json.load(json_data)\n",
    "    \n",
    "# put it into a dataframe\n",
    "home_df = pd.DataFrame(data['data'])\n",
    "\n",
    "# save to csv\n",
    "home_df.to_csv('g_home_data.csv')"
   ]
  },
  {
   "cell_type": "code",
   "execution_count": null,
   "id": "d459e1cf",
   "metadata": {},
   "outputs": [],
   "source": []
  },
  {
   "cell_type": "code",
   "execution_count": null,
   "id": "09913b75",
   "metadata": {},
   "outputs": [],
   "source": []
  },
  {
   "cell_type": "code",
   "execution_count": null,
   "id": "466643d3",
   "metadata": {},
   "outputs": [],
   "source": []
  }
 ],
 "metadata": {
  "kernelspec": {
   "display_name": "Python 3",
   "language": "python",
   "name": "python3"
  },
  "language_info": {
   "codemirror_mode": {
    "name": "ipython",
    "version": 3
   },
   "file_extension": ".py",
   "mimetype": "text/x-python",
   "name": "python",
   "nbconvert_exporter": "python",
   "pygments_lexer": "ipython3",
   "version": "3.8.8"
  }
 },
 "nbformat": 4,
 "nbformat_minor": 5
}
