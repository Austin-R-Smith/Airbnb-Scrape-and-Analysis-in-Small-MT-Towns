{
 "cells": [
  {
   "cell_type": "markdown",
   "id": "e9e5cb91",
   "metadata": {},
   "source": [
    "# Airbnb Web Scrape - Selenium and BS\n",
    "\n",
    "The code below scrapes information for Airbnb listings in and around Gardiner, MT and West Yellowstone, MT. "
   ]
  },
  {
   "cell_type": "code",
   "execution_count": null,
   "id": "3c37fd27",
   "metadata": {},
   "outputs": [],
   "source": [
    "# imports\n",
    "\n",
    "import pandas as pd\n",
    "\n",
    "import requests               \n",
    "from bs4 import BeautifulSoup \n",
    "\n",
    "# imports for Selenium\n",
    "\n",
    "from selenium import webdriver\n",
    "from selenium.webdriver.chrome.service import Service\n",
    "from webdriver_manager.chrome import ChromeDriverManager\n",
    "\n",
    "import time\n"
   ]
  },
  {
   "cell_type": "markdown",
   "id": "92a764c1",
   "metadata": {},
   "source": [
    "Airbnb only returns 300 listings per area searched, so in order to grab all of the listings in both Gardiner and West Yellowstone, I used the \"search by map\" feature to narrow down the view results to less than 300 listings per url. The base search pages to scrape are listed below with the approximate number of listings for each URL. In the cleaning phase, I will need to weed out any accidental duplicates. \n",
    "\n",
    "For Gardiner: ~420 listings\n",
    "- start with the town proper (~232 listings; includes Jardine and Corwin): https://www.airbnb.com/s/Gardiner--Montana--United-States/homes?tab_id=home_tab&refinement_paths%5B%5D=%2Fhomes&flexible_trip_dates%5B%5D=april&flexible_trip_dates%5B%5D=august&flexible_trip_dates%5B%5D=february&flexible_trip_dates%5B%5D=january&flexible_trip_dates%5B%5D=july&flexible_trip_dates%5B%5D=june&flexible_trip_dates%5B%5D=march&flexible_trip_dates%5B%5D=may&flexible_trip_dates%5B%5D=november&flexible_trip_dates%5B%5D=october&flexible_trip_dates%5B%5D=september&date_picker_type=flexible_dates&query=Gardiner%2C%20Montana%2C%20United%20States&place_id=ChIJ0fUtVMO3T1MRH5WCc2sS2a0&flexible_trip_lengths%5B%5D=one_week&adults=2&source=structured_search_input_header&search_type=user_map_move&ne_lat=45.36612117935085&ne_lng=-110.39147267490137&sw_lat=44.690607481299885&sw_lng=-111.0973227992605&zoom=10&search_by_map=true\n",
    "\n",
    "- then expand to the Tom Miner and Emigrant areas (~187 listings): https://www.airbnb.com/s/Gardiner--Montana--United-States/homes?tab_id=home_tab&refinement_paths%5B%5D=%2Fhomes&flexible_trip_dates%5B%5D=april&flexible_trip_dates%5B%5D=august&flexible_trip_dates%5B%5D=february&flexible_trip_dates%5B%5D=january&flexible_trip_dates%5B%5D=july&flexible_trip_dates%5B%5D=june&flexible_trip_dates%5B%5D=march&flexible_trip_dates%5B%5D=may&flexible_trip_dates%5B%5D=november&flexible_trip_dates%5B%5D=october&flexible_trip_dates%5B%5D=september&date_picker_type=flexible_dates&query=Gardiner%2C%20Montana%2C%20United%20States&place_id=ChIJ0fUtVMO3T1MRH5WCc2sS2a0&flexible_trip_lengths%5B%5D=one_week&adults=2&source=structured_search_input_header&search_type=user_map_move&ne_lat=45.450442941099546&ne_lng=-110.67568351400985&sw_lat=45.114183525111855&sw_lng=-111.02860857618941&zoom=11&search_by_map=true \n",
    "\n",
    "For West Yellowstone: ~ 420 listings\n",
    "- town proper (~242 listings): https://www.airbnb.com/s/West-Yellowstone--Montana--United-States/homes?tab_id=home_tab&refinement_paths%5B%5D=%2Fhomes&flexible_trip_dates%5B%5D=april&flexible_trip_dates%5B%5D=august&flexible_trip_dates%5B%5D=february&flexible_trip_dates%5B%5D=january&flexible_trip_dates%5B%5D=july&flexible_trip_dates%5B%5D=june&flexible_trip_dates%5B%5D=march&flexible_trip_dates%5B%5D=may&flexible_trip_dates%5B%5D=november&flexible_trip_dates%5B%5D=october&flexible_trip_dates%5B%5D=september&date_picker_type=flexible_dates&flexible_trip_lengths%5B%5D=one_week&adults=2&source=structured_search_input_header&search_type=user_map_move&query=West%20Yellowstone%2C%20Montana%2C%20United%20States&place_id=ChIJAysyesC5UVMRECCQSPedY90&ne_lat=44.73728111375304&ne_lng=-110.99951584594726&sw_lat=44.550659328113674&sw_lng=-111.21683914916991&zoom=12&search_by_map=true\n",
    "\n",
    "- Hebgen Lake (~40): https://www.airbnb.com/s/West-Yellowstone--Montana--United-States/homes?tab_id=home_tab&refinement_paths%5B%5D=%2Fhomes&flexible_trip_dates%5B%5D=april&flexible_trip_dates%5B%5D=august&flexible_trip_dates%5B%5D=february&flexible_trip_dates%5B%5D=january&flexible_trip_dates%5B%5D=july&flexible_trip_dates%5B%5D=june&flexible_trip_dates%5B%5D=march&flexible_trip_dates%5B%5D=may&flexible_trip_dates%5B%5D=november&flexible_trip_dates%5B%5D=october&flexible_trip_dates%5B%5D=september&date_picker_type=flexible_dates&flexible_trip_lengths%5B%5D=one_week&adults=2&source=structured_search_input_header&search_type=user_map_move&query=West%20Yellowstone%2C%20Montana%2C%20United%20States&place_id=ChIJAysyesC5UVMRECCQSPedY90&ne_lat=44.859090764900564&ne_lng=-111.0874603574348&sw_lat=44.672861888097714&sw_lng=-111.30478366065745&zoom=12&search_by_map=true\n",
    "\n",
    "- Henry's Lake (~139): https://www.airbnb.com/s/West-Yellowstone--Montana--United-States/homes?tab_id=home_tab&refinement_paths%5B%5D=%2Fhomes&flexible_trip_dates%5B%5D=april&flexible_trip_dates%5B%5D=august&flexible_trip_dates%5B%5D=february&flexible_trip_dates%5B%5D=january&flexible_trip_dates%5B%5D=july&flexible_trip_dates%5B%5D=june&flexible_trip_dates%5B%5D=march&flexible_trip_dates%5B%5D=may&flexible_trip_dates%5B%5D=november&flexible_trip_dates%5B%5D=october&flexible_trip_dates%5B%5D=september&date_picker_type=flexible_dates&flexible_trip_lengths%5B%5D=one_week&adults=2&source=structured_search_input_header&search_type=user_map_move&query=West%20Yellowstone%2C%20Montana%2C%20United%20States&place_id=ChIJAysyesC5UVMRECCQSPedY90&ne_lat=44.71527583177368&ne_lng=-111.24139372920149&sw_lat=44.52858315630152&sw_lng=-111.45871703242415&zoom=12&search_by_map=true"
   ]
  },
  {
   "cell_type": "code",
   "execution_count": null,
   "id": "c6efc18f",
   "metadata": {},
   "outputs": [],
   "source": [
    "# establish the URLs\n",
    "\n",
    "url_gardiner_town = 'https://www.airbnb.com/s/Gardiner--Montana--United-States/homes?tab_id=home_tab&refinement_paths%5B%5D=%2Fhomes&flexible_trip_dates%5B%5D=april&flexible_trip_dates%5B%5D=august&flexible_trip_dates%5B%5D=february&flexible_trip_dates%5B%5D=january&flexible_trip_dates%5B%5D=july&flexible_trip_dates%5B%5D=june&flexible_trip_dates%5B%5D=march&flexible_trip_dates%5B%5D=may&flexible_trip_dates%5B%5D=november&flexible_trip_dates%5B%5D=october&flexible_trip_dates%5B%5D=september&date_picker_type=flexible_dates&query=Gardiner%2C%20Montana%2C%20United%20States&place_id=ChIJ0fUtVMO3T1MRH5WCc2sS2a0&flexible_trip_lengths%5B%5D=one_week&adults=2&source=structured_search_input_header&search_type=user_map_move&ne_lat=45.36612117935085&ne_lng=-110.39147267490137&sw_lat=44.690607481299885&sw_lng=-111.0973227992605&zoom=10&search_by_map=true'\n",
    "url_miner_emigrant = 'https://www.airbnb.com/s/Gardiner--Montana--United-States/homes?tab_id=home_tab&refinement_paths%5B%5D=%2Fhomes&flexible_trip_dates%5B%5D=april&flexible_trip_dates%5B%5D=august&flexible_trip_dates%5B%5D=february&flexible_trip_dates%5B%5D=january&flexible_trip_dates%5B%5D=july&flexible_trip_dates%5B%5D=june&flexible_trip_dates%5B%5D=march&flexible_trip_dates%5B%5D=may&flexible_trip_dates%5B%5D=november&flexible_trip_dates%5B%5D=october&flexible_trip_dates%5B%5D=september&date_picker_type=flexible_dates&query=Gardiner%2C%20Montana%2C%20United%20States&place_id=ChIJ0fUtVMO3T1MRH5WCc2sS2a0&flexible_trip_lengths%5B%5D=one_week&adults=2&source=structured_search_input_header&search_type=user_map_move&ne_lat=45.450442941099546&ne_lng=-110.67568351400985&sw_lat=45.114183525111855&sw_lng=-111.02860857618941&zoom=11&search_by_map=true' \n",
    "\n",
    "url_west_town = 'https://www.airbnb.com/s/West-Yellowstone--Montana--United-States/homes?tab_id=home_tab&refinement_paths%5B%5D=%2Fhomes&flexible_trip_dates%5B%5D=april&flexible_trip_dates%5B%5D=august&flexible_trip_dates%5B%5D=february&flexible_trip_dates%5B%5D=january&flexible_trip_dates%5B%5D=july&flexible_trip_dates%5B%5D=june&flexible_trip_dates%5B%5D=march&flexible_trip_dates%5B%5D=may&flexible_trip_dates%5B%5D=november&flexible_trip_dates%5B%5D=october&flexible_trip_dates%5B%5D=september&date_picker_type=flexible_dates&flexible_trip_lengths%5B%5D=one_week&adults=2&source=structured_search_input_header&search_type=user_map_move&query=West%20Yellowstone%2C%20Montana%2C%20United%20States&place_id=ChIJAysyesC5UVMRECCQSPedY90&ne_lat=44.73728111375304&ne_lng=-110.99951584594726&sw_lat=44.550659328113674&sw_lng=-111.21683914916991&zoom=12&search_by_map=true'\n",
    "url_hebgen = 'https://www.airbnb.com/s/West-Yellowstone--Montana--United-States/homes?tab_id=home_tab&refinement_paths%5B%5D=%2Fhomes&flexible_trip_dates%5B%5D=april&flexible_trip_dates%5B%5D=august&flexible_trip_dates%5B%5D=february&flexible_trip_dates%5B%5D=january&flexible_trip_dates%5B%5D=july&flexible_trip_dates%5B%5D=june&flexible_trip_dates%5B%5D=march&flexible_trip_dates%5B%5D=may&flexible_trip_dates%5B%5D=november&flexible_trip_dates%5B%5D=october&flexible_trip_dates%5B%5D=september&date_picker_type=flexible_dates&flexible_trip_lengths%5B%5D=one_week&adults=2&source=structured_search_input_header&search_type=user_map_move&query=West%20Yellowstone%2C%20Montana%2C%20United%20States&place_id=ChIJAysyesC5UVMRECCQSPedY90&ne_lat=44.859090764900564&ne_lng=-111.0874603574348&sw_lat=44.672861888097714&sw_lng=-111.30478366065745&zoom=12&search_by_map=true'\n",
    "url_henry = 'https://www.airbnb.com/s/West-Yellowstone--Montana--United-States/homes?tab_id=home_tab&refinement_paths%5B%5D=%2Fhomes&flexible_trip_dates%5B%5D=april&flexible_trip_dates%5B%5D=august&flexible_trip_dates%5B%5D=february&flexible_trip_dates%5B%5D=january&flexible_trip_dates%5B%5D=july&flexible_trip_dates%5B%5D=june&flexible_trip_dates%5B%5D=march&flexible_trip_dates%5B%5D=may&flexible_trip_dates%5B%5D=november&flexible_trip_dates%5B%5D=october&flexible_trip_dates%5B%5D=september&date_picker_type=flexible_dates&flexible_trip_lengths%5B%5D=one_week&adults=2&source=structured_search_input_header&search_type=user_map_move&query=West%20Yellowstone%2C%20Montana%2C%20United%20States&place_id=ChIJAysyesC5UVMRECCQSPedY90&ne_lat=44.71527583177368&ne_lng=-111.24139372920149&sw_lat=44.52858315630152&sw_lng=-111.45871703242415&zoom=12&search_by_map=true' \n"
   ]
  },
  {
   "cell_type": "markdown",
   "id": "70b631ec",
   "metadata": {},
   "source": [
    "The sections of code below walk through the process step-by-step as I learned how to do this scrape. All code is commented out, but I'm keeping it for posterity. "
   ]
  },
  {
   "cell_type": "code",
   "execution_count": null,
   "id": "a58c507a",
   "metadata": {},
   "outputs": [],
   "source": [
    "# scrape the listings page using Selenium\n",
    "\n",
    "#driver = webdriver.Chrome(service=Service(ChromeDriverManager().install()))"
   ]
  },
  {
   "cell_type": "code",
   "execution_count": null,
   "id": "1775df0a",
   "metadata": {},
   "outputs": [],
   "source": [
    "# navigate to the URL\n",
    "\n",
    "#driver.get(url_gardiner)"
   ]
  },
  {
   "cell_type": "code",
   "execution_count": null,
   "id": "c4bb5142",
   "metadata": {},
   "outputs": [],
   "source": [
    "#html = driver.page_source"
   ]
  },
  {
   "cell_type": "code",
   "execution_count": null,
   "id": "76e7cf01",
   "metadata": {},
   "outputs": [],
   "source": [
    "# parse the page with soup\n",
    "\n",
    "#html_soup = BeautifulSoup(html, 'html.parser')\n"
   ]
  },
  {
   "cell_type": "code",
   "execution_count": null,
   "id": "13857641",
   "metadata": {},
   "outputs": [],
   "source": [
    "# this class should pull 20 listings\n",
    "#listings = html_soup.find_all('div', class_ = 'c1tbui0o ltlgcp dir dir-ltr')"
   ]
  },
  {
   "cell_type": "code",
   "execution_count": null,
   "id": "444f5592",
   "metadata": {},
   "outputs": [],
   "source": [
    "#driver.close()"
   ]
  },
  {
   "cell_type": "code",
   "execution_count": null,
   "id": "02aa8128",
   "metadata": {},
   "outputs": [],
   "source": [
    "# check to make sure there are 20  \n",
    "\n",
    "#print(len(listings))"
   ]
  },
  {
   "cell_type": "code",
   "execution_count": null,
   "id": "88124fcd",
   "metadata": {},
   "outputs": [],
   "source": [
    "# print one listing to inspect its elements\n",
    "\n",
    "#print(listings[0].prettify())"
   ]
  },
  {
   "cell_type": "markdown",
   "id": "9886a1d7",
   "metadata": {},
   "source": [
    "From the block above of listing elements, we can pull out the listing title; URL; header; number of beds, baths, and guests; select features like kitchen, wifi, etc.; price; rating; and whether the host is a Superhost. Their tags are as follows, which I found by scrolling through the object above."
   ]
  },
  {
   "cell_type": "code",
   "execution_count": null,
   "id": "a952ad1e",
   "metadata": {},
   "outputs": [],
   "source": [
    "# IMPORTANT NOTE: ALL OF THESE IDENTIFIERS ARE LIKELY TO CHANGE!\n",
    "# THEY WILL CHANGE ANYTIME AIRBNB UPDATES ITS WEBSITE\n",
    "\n",
    "search_page = {\n",
    "    'name': {'tag':'meta', 'get':'content', 'order':0},\n",
    "    'url': {'tag':'meta', 'get':'content', 'order':2},\n",
    "    'header': {'tag':'div', 'class': 'mjnkf15 dir dir-ltr'},\n",
    "    'guests': {'tag':'span', 'class': 'mvk3iwl dir dir-ltr', 'order':0},\n",
    "    'rooms': {'tag':'span', 'class': 'mvk3iwl dir dir-ltr', 'order':1},\n",
    "    'beds': {'tag':'span', 'class': 'mvk3iwl dir dir-ltr', 'order':2},\n",
    "    'baths': {'tag':'span', 'class': 'mvk3iwl dir dir-ltr', 'order':3},\n",
    "    'wifi': {'tag':'span', 'class': 'mvk3iwl dir dir-ltr', 'order':4},\n",
    "    'kitchen': {'tag':'span', 'class': 'mvk3iwl dir dir-ltr', 'order':5},\n",
    "    'washer': {'tag':'span', 'class': 'mvk3iwl dir dir-ltr', 'order':6},\n",
    "    'free parking': {'tag':'span', 'class': 'mvk3iwl dir dir-ltr', 'order':7},\n",
    "    'price': {'tag':'span', 'class':'a8jt5op dir dir-ltr'},\n",
    "    'rating': {'tag':'span', 'class':'r1g2zmv6 dir dir-ltr'},\n",
    "    'n_reviews': {'tag':'span', 'class': 'rapc1b3 dir dir-ltr'},\n",
    "    'superhost': {'tag':'div', 'class': 't1qa5xaj dir dir-ltr'} \n",
    "}"
   ]
  },
  {
   "cell_type": "code",
   "execution_count": null,
   "id": "1cb4f039",
   "metadata": {},
   "outputs": [],
   "source": [
    "# this function will extract all the elements in \"search_page\" above from the html \n",
    "\n",
    "def extract_elements(listing_html, params) :\n",
    "     # Find the right tag\n",
    "    if 'class' in params:\n",
    "        elements_found = listing_html.find_all(params['tag'], params['class'])\n",
    "    else:\n",
    "        elements_found = listing_html.find_all(params['tag'])\n",
    "\n",
    "    # Extract the right element\n",
    "    tag_order = params.get('order', 0)\n",
    "    element = elements_found[tag_order]\n",
    "        \n",
    "    # Get text\n",
    "    if 'get' in params:\n",
    "        output = element.get(params['get'])\n",
    "    else:\n",
    "        output = element.get_text()\n",
    "\n",
    "    return output"
   ]
  },
  {
   "cell_type": "code",
   "execution_count": null,
   "id": "4ea99aed",
   "metadata": {},
   "outputs": [],
   "source": [
    "# test on the first listing; see if it can extract all the right features\n",
    "# (did a bunch of adjusting to get the correct items) \n",
    "\n",
    "#extract_elements(listings[0], search_page['name'])\n",
    "#extract_elements(listings[0], search_page['url'])\n",
    "#extract_elements(listings[0], search_page['header'])\n",
    "#extract_elements(listings[0], search_page['guests'])\n",
    "#extract_elements(listings[0], search_page['rooms'])\n",
    "#extract_elements(listings[0], search_page['beds'])\n",
    "#extract_elements(listings[0], search_page['baths'])\n",
    "#extract_elements(listings[0], search_page['wifi'])\n",
    "#extract_elements(listings[0], search_page['kitchen'])\n",
    "#extract_elements(listings[0], search_page['washer'])\n",
    "#extract_elements(listings[0], search_page['free parking'])\n",
    "#extract_elements(listings[0], search_page['price'])\n",
    "#extract_elements(listings[0], search_page['rating'])\n",
    "#extract_elements(listings[0], search_page['n_reviews'])\n",
    "#extract_elements(listings[0], search_page['superhost'])"
   ]
  },
  {
   "cell_type": "code",
   "execution_count": null,
   "id": "25e0b7e2",
   "metadata": {},
   "outputs": [],
   "source": [
    "# extract all of the elements with this function\n",
    "\n",
    "def extract_page_features(soup, search_items):\n",
    "    # create a dictionary to hold the features\n",
    "    features_dict = {}\n",
    "    \n",
    "    # go through each item of the search block above and try to find it and put it in dict\n",
    "    for feature in search_items :\n",
    "        try:\n",
    "            features_dict[feature] = extract_elements(soup, search_items[feature])\n",
    "            \n",
    "        # if it doesn't exist, place empty in that field\n",
    "        except:\n",
    "            features_dict[feature] = 'empty'\n",
    "    \n",
    "    return features_dict"
   ]
  },
  {
   "cell_type": "code",
   "execution_count": null,
   "id": "85a4f24d",
   "metadata": {},
   "outputs": [],
   "source": [
    "# test function on the first listing\n",
    "\n",
    "#extract_page_features(listings[0], search_page)"
   ]
  },
  {
   "cell_type": "markdown",
   "id": "7ae27d3e",
   "metadata": {},
   "source": [
    "Now I need figure out how to go through each of the pages. The Airbnb website adds '&items_offset=20' to the end of the second page. Then '&items_offset=40' to the third page, and so on. (There are 20 listings per page, so this makes sense)."
   ]
  },
  {
   "cell_type": "code",
   "execution_count": null,
   "id": "cb40e3c1",
   "metadata": {},
   "outputs": [],
   "source": [
    "# create a list of the URLs for each page of each URL for Gardiner and for West\n",
    "# 5 total\n",
    "\n",
    "def build_urls(main_url, listings_per_page=20, pages_per_location=15):\n",
    "    url_list = []\n",
    "    for i in range(pages_per_location):\n",
    "        offset = listings_per_page * i\n",
    "        url_pagination = main_url + f'&items_offset={offset}'\n",
    "        url_list.append(url_pagination)\n",
    "    \n",
    "    return url_list"
   ]
  },
  {
   "cell_type": "code",
   "execution_count": null,
   "id": "20dc479d",
   "metadata": {},
   "outputs": [],
   "source": [
    "gardiner_town = build_urls(url_gardiner_town, listings_per_page=20, pages_per_location=12)\n",
    "miner_emigrant = build_urls(url_miner_emigrant,listings_per_page=20, pages_per_location=9)\n",
    "west_town = build_urls(url_west_town,listings_per_page=20, pages_per_location=13)\n",
    "hebgen = build_urls(url_hebgen,listings_per_page=20, pages_per_location=2)\n",
    "henry = build_urls(url_henry,listings_per_page=20, pages_per_location=7)"
   ]
  },
  {
   "cell_type": "markdown",
   "id": "3cbb5e42",
   "metadata": {},
   "source": [
    "Now I need a function that will go through every page in the URL lists and scrape it and pull out the features listed above. First, though, I need to create a function that scrapes a single page (this part was done manually above).     "
   ]
  },
  {
   "cell_type": "code",
   "execution_count": null,
   "id": "45dfb3f9",
   "metadata": {},
   "outputs": [],
   "source": [
    "# this function will scrape the listings on one page\n",
    "\n",
    "def get_listings(search_page) :\n",
    "    # put the driver ahead of running this function\n",
    "    # driver = webdriver.Chrome(service=Service(ChromeDriverManager().install()))\n",
    "    \n",
    "    # add in some wait time so the page can load\n",
    "    # 10 seconds is PLENTY; I'm being cautious\n",
    "    \n",
    "    driver.get(search_page)\n",
    "    \n",
    "    time.sleep(10)\n",
    "    \n",
    "    # then parse the html on the page\n",
    "    html = driver.page_source\n",
    "    html_soup = BeautifulSoup(html, 'html.parser')\n",
    "    listings = html_soup.find_all('div', class_ = 'c1tbui0o ltlgcp dir dir-ltr')\n",
    "    \n",
    "    # remember to close the driver after running the function\n",
    "    #driver.close()\n",
    "    \n",
    "    return listings"
   ]
  },
  {
   "cell_type": "code",
   "execution_count": null,
   "id": "28af715b",
   "metadata": {},
   "outputs": [],
   "source": [
    "# test\n",
    "#get_listings(url_gardiner)"
   ]
  },
  {
   "cell_type": "code",
   "execution_count": null,
   "id": "cb43ca47",
   "metadata": {},
   "outputs": [],
   "source": [
    "# this function should scrape all of the pages in the URL list for a given place and return the features I want\n",
    "\n",
    "def process_search_pages(url_list) :\n",
    "    features_list = []\n",
    "    for page in url_list:\n",
    "        listings = get_listings(page)\n",
    "        for listing in listings:\n",
    "            features = extract_page_features(listing, search_page)\n",
    "            features_list.append(features)\n",
    "\n",
    "    return features_list\n",
    "    "
   ]
  },
  {
   "cell_type": "code",
   "execution_count": null,
   "id": "29e2f056",
   "metadata": {},
   "outputs": [],
   "source": [
    "# test on one page\n",
    "\n",
    "# process_search_pages(url_list[1:2])"
   ]
  },
  {
   "cell_type": "code",
   "execution_count": null,
   "id": "2bf37ccc",
   "metadata": {},
   "outputs": [],
   "source": [
    "# process all of the pages for Gardiner's town\n",
    "driver = webdriver.Chrome(service=Service(ChromeDriverManager().install()))\n",
    "gardiner_town_scrape = process_search_pages(gardiner_town)\n",
    "driver.close()"
   ]
  },
  {
   "cell_type": "code",
   "execution_count": null,
   "id": "6ff9169e",
   "metadata": {},
   "outputs": [],
   "source": [
    "gardiner_town_listings = pd.DataFrame(gardiner_town_scrape)"
   ]
  },
  {
   "cell_type": "code",
   "execution_count": null,
   "id": "ac06f25a",
   "metadata": {},
   "outputs": [],
   "source": [
    "# rinse and repeat for the other four URL lists\n",
    "# give some time between scrapes so the website doesn't get mad\n",
    "\n",
    "# Emigrant and Tom Miner\n",
    "driver = webdriver.Chrome(service=Service(ChromeDriverManager().install()))\n",
    "miner_emigrant_scrape = process_search_pages(miner_emigrant)\n",
    "driver.close()\n",
    "\n",
    "miner_emigrant_listings = pd.DataFrame(miner_emigrant_scrape)\n"
   ]
  },
  {
   "cell_type": "code",
   "execution_count": null,
   "id": "6b7fd786",
   "metadata": {
    "scrolled": true
   },
   "outputs": [],
   "source": [
    "# West town scrape\n",
    "driver = webdriver.Chrome(service=Service(ChromeDriverManager().install()))\n",
    "west_town_scrape = process_search_pages(west_town)\n",
    "driver.close()\n",
    "\n",
    "west_town_listings = pd.DataFrame(west_town_scrape)\n"
   ]
  },
  {
   "cell_type": "code",
   "execution_count": null,
   "id": "2f794f5c",
   "metadata": {},
   "outputs": [],
   "source": [
    "# Hebgen Lake scrape\n",
    "driver = webdriver.Chrome(service=Service(ChromeDriverManager().install()))\n",
    "hebgen_scrape = process_search_pages(hebgen)\n",
    "driver.close()\n",
    "\n",
    "hebgen_listings = pd.DataFrame(hebgen_scrape)\n",
    "\n"
   ]
  },
  {
   "cell_type": "code",
   "execution_count": null,
   "id": "077d9c28",
   "metadata": {},
   "outputs": [],
   "source": [
    "# Henry's Lake scrape\n",
    "driver = webdriver.Chrome(service=Service(ChromeDriverManager().install()))\n",
    "henry_scrape = process_search_pages(henry)\n",
    "driver.close()\n",
    "\n",
    "henry_listings = pd.DataFrame(henry_scrape)"
   ]
  },
  {
   "cell_type": "code",
   "execution_count": null,
   "id": "aafd54af",
   "metadata": {},
   "outputs": [],
   "source": [
    "len(henry_listings.index)"
   ]
  },
  {
   "cell_type": "code",
   "execution_count": null,
   "id": "e212a2de",
   "metadata": {},
   "outputs": [],
   "source": [
    "# combine the dataframes\n",
    "gardiner_listings = pd.concat([gardiner_town_listings,miner_emigrant_listings], axis=0)\n",
    "west_listings = pd.concat([west_town_listings,hebgen_listings,henry_listings],axis=0)"
   ]
  },
  {
   "cell_type": "code",
   "execution_count": null,
   "id": "58f26eb8",
   "metadata": {},
   "outputs": [],
   "source": [
    "print(len(gardiner_listings.index))\n",
    "print(len(west_listings.index))"
   ]
  },
  {
   "cell_type": "code",
   "execution_count": null,
   "id": "2fa99c26",
   "metadata": {},
   "outputs": [],
   "source": [
    "# save as csvs\n",
    "gardiner_listings.to_csv('gardiner_listings.csv')\n",
    "west_listings.to_csv('west_listings.csv')"
   ]
  },
  {
   "cell_type": "code",
   "execution_count": null,
   "id": "90bf4a50",
   "metadata": {},
   "outputs": [],
   "source": []
  }
 ],
 "metadata": {
  "kernelspec": {
   "display_name": "Python 3",
   "language": "python",
   "name": "python3"
  },
  "language_info": {
   "codemirror_mode": {
    "name": "ipython",
    "version": 3
   },
   "file_extension": ".py",
   "mimetype": "text/x-python",
   "name": "python",
   "nbconvert_exporter": "python",
   "pygments_lexer": "ipython3",
   "version": "3.8.8"
  }
 },
 "nbformat": 4,
 "nbformat_minor": 5
}
