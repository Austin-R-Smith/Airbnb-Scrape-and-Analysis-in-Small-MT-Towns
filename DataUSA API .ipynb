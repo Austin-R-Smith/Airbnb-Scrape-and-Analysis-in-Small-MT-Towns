{
 "cells": [
  {
   "cell_type": "markdown",
   "id": "fa8b3b75",
   "metadata": {},
   "source": [
    "## Data USA API Pulls"
   ]
  },
  {
   "cell_type": "markdown",
   "id": "50b12597",
   "metadata": {},
   "source": [
    "Within the Data USA API, Gardiner, MT is a \"place\" and its ID is 16000US3029950.\n",
    "\n",
    "West Yellowstone is also classified as a place and its ID is 16000US3079525.\n",
    "\n",
    "Pulling specific data from the API is a matter of identifying how each data set is called. The code belows the following information: \n",
    "- Median Propoerty value going back to 2015\n",
    "- Household Income going back to 2013\n",
    "- Rent versus home ownership percentages going back to 2013\n",
    "- Employmnet by industry going back to 2013\n",
    "- Population (and diversity) going back to 2013\n",
    "- Median Age (note: only available for Gardiner)"
   ]
  },
  {
   "cell_type": "code",
   "execution_count": 1,
   "id": "32224451",
   "metadata": {},
   "outputs": [],
   "source": [
    "import requests\n",
    "import pandas as pd\n",
    "from pandas.io.json import json_normalize\n",
    "import csv\n",
    "import json"
   ]
  },
  {
   "cell_type": "markdown",
   "id": "8b7d7299",
   "metadata": {},
   "source": [
    "### Gardiner Data Pull"
   ]
  },
  {
   "cell_type": "code",
   "execution_count": 2,
   "id": "885e0057",
   "metadata": {},
   "outputs": [],
   "source": [
    "# this block pulls the median home value data\n",
    "\n",
    "url_home = \"https://datausa.io/api/data?measure=Property Value by Bucket,Property Value by Bucket%20Moe&geo=16000US3029950,01000US&drilldowns=Value%20Bucket\"\n",
    "\n",
    "json_home = requests.get(url_home).json()\n",
    "\n",
    "with open('g_home_data.json', 'w') as json_file :\n",
    "    json.dump(json_home, json_file)\n",
    "    \n",
    "with open('g_home_data.json') as json_data :\n",
    "    data = json.load(json_data)\n",
    "    \n",
    "home_df = pd.DataFrame(data['data'])\n",
    "\n",
    "home_df.to_csv('g_home_data.csv')"
   ]
  },
  {
   "cell_type": "code",
   "execution_count": 8,
   "id": "592f595b",
   "metadata": {},
   "outputs": [],
   "source": [
    "# this block pulls household income \n",
    "\n",
    "url_income = 'https://datausa.io/api/data?measure=Household%20Income,Household%20Income%20Moe&geo=16000US3029950,01000US&drilldowns=Household%20Income%20Bucket'\n",
    "\n",
    "json_income = requests.get(url_income).json()\n",
    "\n",
    "with open('g_income_data.json', 'w') as json_file :\n",
    "    json.dump(json_income, json_file)\n",
    "\n",
    "with open('g_income_data.json') as json_data :\n",
    "    data = json.load(json_data)\n",
    "    \n",
    "income_df = pd.DataFrame(data['data'])\n",
    "\n",
    "income_df.to_csv('g_income_data.csv')"
   ]
  },
  {
   "cell_type": "code",
   "execution_count": 9,
   "id": "98515356",
   "metadata": {},
   "outputs": [],
   "source": [
    "# this block pulls rent vs. own data\n",
    "\n",
    "url_rentOwn = 'https://datausa.io/api/data?measure=Household%20Ownership,Household%20Ownership%20Moe&Geography=16000US3029950:neighbors:parents,16000US3029950&drilldowns=Occupied%20By'\n",
    "\n",
    "json_rentOwn = requests.get(url_rentOwn).json()\n",
    "\n",
    "with open('g_rent_data.json', 'w') as json_file :\n",
    "    json.dump(json_rentOwn, json_file)\n",
    "\n",
    "with open('g_rent_data.json') as json_data :\n",
    "    data = json.load(json_data)\n",
    "    \n",
    "rentOwn_df = pd.DataFrame(data['data'])\n",
    "\n",
    "rentOwn_df.to_csv('g_rent_data.csv')"
   ]
  },
  {
   "cell_type": "code",
   "execution_count": 10,
   "id": "203cb4af",
   "metadata": {},
   "outputs": [],
   "source": [
    "# this block pulls employment by industries\n",
    "\n",
    "url_employment = 'https://datausa.io/api/data?Geography=16000US3029950&measure=Workforce%20by%20Industry%20and%20Gender,Workforce%20by%20Industry%20and%20Gender%20Moe&drilldowns=Industry&parents=true'\n",
    "\n",
    "json_employment = requests.get(url_employment).json()\n",
    "\n",
    "with open('g_employment_data.json', 'w') as json_file :\n",
    "    json.dump(json_employment, json_file)\n",
    "\n",
    "with open('g_employment_data.json') as json_data :\n",
    "    data = json.load(json_data)\n",
    "    \n",
    "employment_df = pd.DataFrame(data['data'])\n",
    "\n",
    "employment_df.to_csv('g_employment_data.csv')\n"
   ]
  },
  {
   "cell_type": "code",
   "execution_count": 11,
   "id": "0cc3e933",
   "metadata": {},
   "outputs": [],
   "source": [
    "# Population and Diversity\n",
    "\n",
    "url_pop = 'https://datausa.io/api/data?Geography=16000US3029950&drilldowns=Race,Ethnicity&measures=Hispanic%20Population,Hispanic%20Population%20Moe'\n",
    "\n",
    "json_pop = requests.get(url_pop).json()\n",
    "\n",
    "with open('g_pop_data.json', 'w') as json_file :\n",
    "    json.dump(json_pop, json_file)\n",
    "\n",
    "with open('g_pop_data.json') as json_data :\n",
    "    data = json.load(json_data)\n",
    "    \n",
    "pop_df = pd.DataFrame(data['data'])\n",
    "\n",
    "pop_df.to_csv('g_pop_data.csv')"
   ]
  },
  {
   "cell_type": "code",
   "execution_count": 12,
   "id": "15192908",
   "metadata": {},
   "outputs": [],
   "source": [
    "# Median Age\n",
    "\n",
    "url_age = 'https://datausa.io/api/data?Geography=16000US3029950&measures=Birthplace,Birthplace%20Moe&drilldowns=Place of Birth,Age'\n",
    "\n",
    "json_age = requests.get(url_age).json()\n",
    "\n",
    "with open('g_age_data.json', 'w') as json_file :\n",
    "    json.dump(json_age, json_file)\n",
    "\n",
    "with open('g_age_data.json') as json_data :\n",
    "    data = json.load(json_data)\n",
    "    \n",
    "age_df = pd.DataFrame(data['data'])\n",
    "\n",
    "age_df.to_csv('g_age_data.csv')"
   ]
  },
  {
   "cell_type": "markdown",
   "id": "0deb19db",
   "metadata": {},
   "source": [
    "### West Yellowstone Data Pull"
   ]
  },
  {
   "cell_type": "code",
   "execution_count": 13,
   "id": "4f2e0ba1",
   "metadata": {},
   "outputs": [],
   "source": [
    "# same process as above, but with West Yellowstone-specific URLs\n",
    "# median home values\n",
    "\n",
    "# this block pulls the median home value data\n",
    "\n",
    "url_home = 'https://datausa.io/api/data?measure=Property Value by Bucket,Property Value by Bucket%20Moe&geo=16000US3079525,01000US&drilldowns=Value%20Bucket'\n",
    "\n",
    "json_home = requests.get(url_home).json()\n",
    "\n",
    "with open('w_home_data.json', 'w') as json_file :\n",
    "    json.dump(json_home, json_file)\n",
    "    \n",
    "with open('w_home_data.json') as json_data :\n",
    "    data = json.load(json_data)\n",
    "    \n",
    "home_df = pd.DataFrame(data['data'])\n",
    "\n",
    "home_df.to_csv('w_home_data.csv')"
   ]
  },
  {
   "cell_type": "code",
   "execution_count": 14,
   "id": "bcd51015",
   "metadata": {},
   "outputs": [],
   "source": [
    "# this block pulls household income \n",
    "\n",
    "url_income = 'https://datausa.io/api/data?measure=Household%20Income,Household%20Income%20Moe&geo=16000US3079525,01000US&drilldowns=Household%20Income%20Bucket'\n",
    "\n",
    "json_income = requests.get(url_income).json()\n",
    "\n",
    "with open('w_income_data.json', 'w') as json_file :\n",
    "    json.dump(json_income, json_file)\n",
    "\n",
    "with open('w_income_data.json') as json_data :\n",
    "    data = json.load(json_data)\n",
    "    \n",
    "income_df = pd.DataFrame(data['data'])\n",
    "\n",
    "income_df.to_csv('w_income_data.csv')"
   ]
  },
  {
   "cell_type": "code",
   "execution_count": 15,
   "id": "08ddcbb0",
   "metadata": {},
   "outputs": [],
   "source": [
    "# this block pulls rent vs. own data\n",
    "\n",
    "url_rentOwn = 'https://datausa.io/api/data?measure=Household%20Ownership,Household%20Ownership%20Moe&Geography=16000US3079525:neighbors:parents,16000US3079525&drilldowns=Occupied%20By'\n",
    "\n",
    "json_rentOwn = requests.get(url_rentOwn).json()\n",
    "\n",
    "with open('w_rent_data.json', 'w') as json_file :\n",
    "    json.dump(json_rentOwn, json_file)\n",
    "\n",
    "with open('w_rent_data.json') as json_data :\n",
    "    data = json.load(json_data)\n",
    "    \n",
    "rentOwn_df = pd.DataFrame(data['data'])\n",
    "\n",
    "rentOwn_df.to_csv('w_rent_data.csv')"
   ]
  },
  {
   "cell_type": "code",
   "execution_count": 16,
   "id": "e4226569",
   "metadata": {},
   "outputs": [],
   "source": [
    "# this block pulls employment by industries\n",
    "\n",
    "url_employment = 'https://datausa.io/api/data?Geography=16000US3079525&measure=Workforce%20by%20Industry%20and%20Gender,Workforce%20by%20Industry%20and%20Gender%20Moe&drilldowns=Industry&parents=true'\n",
    "\n",
    "json_employment = requests.get(url_employment).json()\n",
    "\n",
    "with open('w_employment_data.json', 'w') as json_file :\n",
    "    json.dump(json_employment, json_file)\n",
    "\n",
    "with open('w_employment_data.json') as json_data :\n",
    "    data = json.load(json_data)\n",
    "    \n",
    "employment_df = pd.DataFrame(data['data'])\n",
    "\n",
    "employment_df.to_csv('w_employment_data.csv')"
   ]
  },
  {
   "cell_type": "code",
   "execution_count": 17,
   "id": "4357d42b",
   "metadata": {},
   "outputs": [],
   "source": [
    "# Population and Diversity\n",
    "\n",
    "url_pop = 'https://datausa.io/api/data?Geography=16000US3079525&drilldowns=Race,Ethnicity&measures=Hispanic%20Population,Hispanic%20Population%20Moe'\n",
    "\n",
    "json_pop = requests.get(url_pop).json()\n",
    "\n",
    "with open('w_pop_data.json', 'w') as json_file :\n",
    "    json.dump(json_pop, json_file)\n",
    "\n",
    "with open('w_pop_data.json') as json_data :\n",
    "    data = json.load(json_data)\n",
    "    \n",
    "pop_df = pd.DataFrame(data['data'])\n",
    "\n",
    "pop_df.to_csv('w_pop_data.csv')"
   ]
  },
  {
   "cell_type": "markdown",
   "id": "40b4aaec",
   "metadata": {},
   "source": [
    "Median Age was not available for West Yellowstone :(\n"
   ]
  }
 ],
 "metadata": {
  "kernelspec": {
   "display_name": "Python 3",
   "language": "python",
   "name": "python3"
  },
  "language_info": {
   "codemirror_mode": {
    "name": "ipython",
    "version": 3
   },
   "file_extension": ".py",
   "mimetype": "text/x-python",
   "name": "python",
   "nbconvert_exporter": "python",
   "pygments_lexer": "ipython3",
   "version": "3.8.8"
  }
 },
 "nbformat": 4,
 "nbformat_minor": 5
}
